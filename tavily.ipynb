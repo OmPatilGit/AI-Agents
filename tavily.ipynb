{
 "cells": [
  {
   "cell_type": "code",
   "execution_count": 10,
   "id": "b7b29c71",
   "metadata": {},
   "outputs": [
    {
     "name": "stdout",
     "output_type": "stream",
     "text": [
      "{'query': 'Perplexity AI in India', 'follow_up_questions': None, 'answer': None, 'images': [], 'results': [{'url': 'https://www.linkedin.com/posts/analytics-india-magazine_perplexity-ai-is-making-waves-in-india-riding-activity-7354716583161708544-sSPQ', 'title': 'Perplexity AI surges in India with Airtel tie-up, eyes $18B valuation', 'content': \"Perplexity AI is making waves in India, riding high on a mix of product innovation, aggressive marketing, and key local partnerships. By clicking Continue to join or sign in, you agree to LinkedIn’s User Agreement, Privacy Policy, and Cookie Policy. Perplexity AI is making waves in India, riding high on a mix of product innovation, aggressive marketing, and key local partnerships. Image 10: AIM, graphic Perplexity AI's India strategy is a masterclass in hyper-localization → proving how deep market integration accelerates growth! By clicking Continue to join or sign in, you agree to LinkedIn’s User Agreement, Privacy Policy, and Cookie Policy. By clicking Continue to join or sign in, you agree to LinkedIn’s User Agreement, Privacy Policy, and Cookie Policy.\", 'score': 0.9108078, 'raw_content': None}, {'url': 'https://techcrunch.com/2025/07/17/perplexity-sees-india-as-a-shortcut-in-its-race-against-openai/', 'title': 'Perplexity sees India as a shortcut in its race against OpenAI', 'content': 'Earlier this year, Perplexity partnered with the Indian fintech giant Paytm to offer access to its AI-powered search through the Paytm app, which has over 500 million downloads and is among the top-three apps on the Indian government’s Unified Payments Interface network, processing over 1.2 billion transactions worth over ₹1,34,000 crores (approximately $15.6 billion). One reason Perplexity views India as a key growth market is the relatively limited number of local AI startups, particularly in the AI search space. At the same time, the country has a large and active base of tech-savvy users — a fact that has even prompted Perplexity’s archrival Google to launch AI-powered search features like AI Mode and AI Overviews in India ahead of many other markets. AI, Airtel, ChatGPT, India, OpenAI, Perplexity', 'score': 0.8674071, 'raw_content': None}, {'url': 'https://www.linkedin.com/posts/analytics-india-magazine_perplexity-ai-is-gaining-serious-ground-in-activity-7355594130623787008-ls64', 'title': 'Perplexity AI surges in India, surpasses ChatGPT on App Store charts', 'content': \"Perplexity is an American company primarily leveraging India's vast consumer base as fuel —our data trains their models, increases their profits, and enhances their valuation. This isn't a scenario where India significantly benefits; rather, India helps these foreign entities grow richer and more powerful.\", 'score': 0.86358756, 'raw_content': None}, {'url': 'https://restofworld.org/2025/google-perplexity-ai-search-india/', 'title': 'Google vs. Perplexity fight plays out in India as AI battle intensifies', 'content': 'Google and Perplexity are offering free access to their AI-powered search in India, a key testing ground and source of training data for AI', 'score': 0.83678174, 'raw_content': None}, {'url': 'https://m.economictimes.com/news/new-updates/perplexity-how-31-year-old-indian-founder-is-trying-to-shake-chatgpt-googles-gemini-ai-dominance/articleshow/122761075.cms', 'title': 'Perplexity: How 31-year-old Indian founder is trying to shake ...', 'content': \"This collaboration grants Airtel customers complimentary access to Perplexity Pro, valued at Rs 17,000 annually, unlocking advanced AI models and exclusive features. Cashing in on Mittals' Airtel subscribers base, Aravind Srinivas-led Perplexity AI achieved has achieved a big feat -- it has dethroned giants like ChatGPT by clinching the top spot among free apps on the Apple App Store. The abrupt surge follows a strategic alliance with telecom operator, which now provides its customers with free access to the Perplexity Pro subscription costing Rs 17,000 a year. Perplexity Pro offers real-time, structured answers by tapping into models like GPT-4.1 and Claude, effectively replacing traditional search results with contextual, citation-based insights. Subscribe to The Economic Times Prime and read the ET ePaper online.\", 'score': 0.79675186, 'raw_content': None}], 'response_time': 0.72, 'request_id': 'e68e9847-15ee-4758-8887-0bbfda003101'}\n",
      "First Result URL: https://www.linkedin.com/posts/analytics-india-magazine_perplexity-ai-is-making-waves-in-india-riding-activity-7354716583161708544-sSPQ\n",
      "First Result Content: Perplexity AI is making waves in India, riding high on a mix of product innovation, aggressive marketing, and key local partnerships. By clicking Continue to join or sign in, you agree to LinkedIn’s User Agreement, Privacy Policy, and Cookie Policy. Perplexity AI is making waves in India, riding high on a mix of product innovation, aggressive marketing, and key local partnerships. Image 10: AIM, graphic Perplexity AI's India strategy is a masterclass in hyper-localization → proving how deep market integration accelerates growth! By clicking Continue to join or sign in, you agree to LinkedIn’s User Agreement, Privacy Policy, and Cookie Policy. By clicking Continue to join or sign in, you agree to LinkedIn’s User Agreement, Privacy Policy, and Cookie Policy.\n",
      "5\n"
     ]
    }
   ],
   "source": [
    "from langchain_tavily import TavilySearch\n",
    "from dotenv import load_dotenv\n",
    "load_dotenv()\n",
    "tavily = TavilySearch()\n",
    "result = tavily.invoke(\"Perplexity AI in India\")\n",
    "print(result)\n",
    "print(f\"First Result URL: {result['results'][0]['url']}\")\n",
    "print(f\"First Result Content: {result['results'][0]['content']}\")\n",
    "print(len(result['results']))"
   ]
  },
  {
   "cell_type": "code",
   "execution_count": null,
   "id": "011014d7",
   "metadata": {},
   "outputs": [],
   "source": []
  }
 ],
 "metadata": {
  "kernelspec": {
   "display_name": "AI-Agents (3.13.1)",
   "language": "python",
   "name": "python3"
  },
  "language_info": {
   "codemirror_mode": {
    "name": "ipython",
    "version": 3
   },
   "file_extension": ".py",
   "mimetype": "text/x-python",
   "name": "python",
   "nbconvert_exporter": "python",
   "pygments_lexer": "ipython3",
   "version": "3.13.1"
  }
 },
 "nbformat": 4,
 "nbformat_minor": 5
}
